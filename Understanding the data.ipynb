{
 "cells": [
  {
   "cell_type": "code",
   "execution_count": 9,
   "id": "123e6401-d4f0-4120-b8b8-0e8ee973c80f",
   "metadata": {},
   "outputs": [],
   "source": [
    "import pandas as pd"
   ]
  },
  {
   "cell_type": "code",
   "execution_count": 69,
   "id": "bb9fd3f1-d4a5-4c99-b36a-5d81e365c8ac",
   "metadata": {},
   "outputs": [],
   "source": [
    "df1 = pd.read_csv('./dataset/dim_date.csv')\n",
    "df2 = pd.read_csv('./dataset/dim_districts.csv')\n",
    "df3= pd.read_csv('./dataset/fact_stamps.csv')\n",
    "df4 = pd.read_csv('./dataset/fact_transport.csv')\n",
    "df5= pd.read_csv('./dataset/fact_TS_iPASS.csv')\n"
   ]
  },
  {
   "cell_type": "markdown",
   "id": "ffd243d6-fff6-4169-ac1f-dd7523b76314",
   "metadata": {},
   "source": [
    "# 1)Understanding the Data of Dim date table"
   ]
  },
  {
   "cell_type": "code",
   "execution_count": 27,
   "id": "4b53228c-13a5-475d-8333-5778a28d4f35",
   "metadata": {},
   "outputs": [
    {
     "data": {
      "text/html": [
       "<div>\n",
       "<style scoped>\n",
       "    .dataframe tbody tr th:only-of-type {\n",
       "        vertical-align: middle;\n",
       "    }\n",
       "\n",
       "    .dataframe tbody tr th {\n",
       "        vertical-align: top;\n",
       "    }\n",
       "\n",
       "    .dataframe thead th {\n",
       "        text-align: right;\n",
       "    }\n",
       "</style>\n",
       "<table border=\"1\" class=\"dataframe\">\n",
       "  <thead>\n",
       "    <tr style=\"text-align: right;\">\n",
       "      <th></th>\n",
       "      <th>month</th>\n",
       "      <th>Mmm</th>\n",
       "      <th>quarter</th>\n",
       "      <th>fiscal_year</th>\n",
       "    </tr>\n",
       "  </thead>\n",
       "  <tbody>\n",
       "    <tr>\n",
       "      <th>0</th>\n",
       "      <td>2019-04-01</td>\n",
       "      <td>Apr</td>\n",
       "      <td>Q1</td>\n",
       "      <td>2019</td>\n",
       "    </tr>\n",
       "    <tr>\n",
       "      <th>1</th>\n",
       "      <td>2019-05-01</td>\n",
       "      <td>May</td>\n",
       "      <td>Q1</td>\n",
       "      <td>2019</td>\n",
       "    </tr>\n",
       "    <tr>\n",
       "      <th>2</th>\n",
       "      <td>2019-06-01</td>\n",
       "      <td>Jun</td>\n",
       "      <td>Q1</td>\n",
       "      <td>2019</td>\n",
       "    </tr>\n",
       "    <tr>\n",
       "      <th>3</th>\n",
       "      <td>2019-07-01</td>\n",
       "      <td>Jul</td>\n",
       "      <td>Q2</td>\n",
       "      <td>2019</td>\n",
       "    </tr>\n",
       "    <tr>\n",
       "      <th>4</th>\n",
       "      <td>2019-08-01</td>\n",
       "      <td>Aug</td>\n",
       "      <td>Q2</td>\n",
       "      <td>2019</td>\n",
       "    </tr>\n",
       "  </tbody>\n",
       "</table>\n",
       "</div>"
      ],
      "text/plain": [
       "        month  Mmm quarter  fiscal_year\n",
       "0  2019-04-01  Apr      Q1         2019\n",
       "1  2019-05-01  May      Q1         2019\n",
       "2  2019-06-01  Jun      Q1         2019\n",
       "3  2019-07-01  Jul      Q2         2019\n",
       "4  2019-08-01  Aug      Q2         2019"
      ]
     },
     "execution_count": 27,
     "metadata": {},
     "output_type": "execute_result"
    }
   ],
   "source": [
    "df1.head()"
   ]
  },
  {
   "cell_type": "code",
   "execution_count": 28,
   "id": "c5d288d3-1c25-4b60-8e30-93efa69dbec3",
   "metadata": {},
   "outputs": [
    {
     "name": "stdout",
     "output_type": "stream",
     "text": [
      "<class 'pandas.core.frame.DataFrame'>\n",
      "RangeIndex: 48 entries, 0 to 47\n",
      "Data columns (total 4 columns):\n",
      " #   Column       Non-Null Count  Dtype \n",
      "---  ------       --------------  ----- \n",
      " 0   month        48 non-null     object\n",
      " 1   Mmm          48 non-null     object\n",
      " 2   quarter      48 non-null     object\n",
      " 3   fiscal_year  48 non-null     int64 \n",
      "dtypes: int64(1), object(3)\n",
      "memory usage: 1.6+ KB\n"
     ]
    }
   ],
   "source": [
    "df1.info()"
   ]
  },
  {
   "cell_type": "markdown",
   "id": "1c07856d-dfa0-4306-8667-c2f743fe728d",
   "metadata": {},
   "source": [
    "## This table contains the dates at the monthly level. Please be aware that the fiscal year of Telangana spans from April to March.\n",
    "\n",
    "- month: This column contains the starting date of each month.\n",
    "\n",
    "- Mmm: This column contains the name of the month.\n",
    "\n",
    "- quarter: This column contains the associated quarter for each particular month.  \n",
    "\n",
    "- fiscal_year: This column contains the corresponding fiscal year of each month.\n",
    "\n"
   ]
  },
  {
   "cell_type": "markdown",
   "id": "40dd18bd-cae1-49d4-8f41-19b2c3165f18",
   "metadata": {},
   "source": [
    "### converting object type to datetime"
   ]
  },
  {
   "cell_type": "code",
   "execution_count": 29,
   "id": "b27eff64-70e0-4458-9b40-0cec96c2800a",
   "metadata": {},
   "outputs": [],
   "source": [
    "df1['month'] = pd.to_datetime(df['month'])"
   ]
  },
  {
   "cell_type": "code",
   "execution_count": 30,
   "id": "5b8b8aaf-0c07-41cb-b3ff-ccd270ae06ea",
   "metadata": {},
   "outputs": [
    {
     "name": "stdout",
     "output_type": "stream",
     "text": [
      "<class 'pandas.core.frame.DataFrame'>\n",
      "RangeIndex: 48 entries, 0 to 47\n",
      "Data columns (total 4 columns):\n",
      " #   Column       Non-Null Count  Dtype         \n",
      "---  ------       --------------  -----         \n",
      " 0   month        48 non-null     datetime64[ns]\n",
      " 1   Mmm          48 non-null     object        \n",
      " 2   quarter      48 non-null     object        \n",
      " 3   fiscal_year  48 non-null     int64         \n",
      "dtypes: datetime64[ns](1), int64(1), object(2)\n",
      "memory usage: 1.6+ KB\n"
     ]
    }
   ],
   "source": [
    "df1.info()"
   ]
  },
  {
   "cell_type": "code",
   "execution_count": 33,
   "id": "b294a689-1495-430a-96fd-74d84f5ae256",
   "metadata": {},
   "outputs": [
    {
     "name": "stdout",
     "output_type": "stream",
     "text": [
      "month          0\n",
      "Mmm            0\n",
      "quarter        0\n",
      "fiscal_year    0\n",
      "dtype: int64\n"
     ]
    }
   ],
   "source": [
    "missing_values = df1.isnull().sum()\n",
    "print(missing_values)"
   ]
  },
  {
   "cell_type": "code",
   "execution_count": 34,
   "id": "6c4ea205-9e23-42a1-8bd6-094d7e09c655",
   "metadata": {},
   "outputs": [
    {
     "data": {
      "text/plain": [
       "0"
      ]
     },
     "execution_count": 34,
     "metadata": {},
     "output_type": "execute_result"
    }
   ],
   "source": [
    "df1.duplicated().sum()"
   ]
  },
  {
   "cell_type": "markdown",
   "id": "2e9c8fb7-5076-424f-914f-6604cf38e9f4",
   "metadata": {},
   "source": [
    "# 2)Understanding the Data of Dim districts table"
   ]
  },
  {
   "cell_type": "code",
   "execution_count": 75,
   "id": "6923e2c8-e655-4ddb-936b-bcfe90930744",
   "metadata": {},
   "outputs": [
    {
     "data": {
      "text/html": [
       "<div>\n",
       "<style scoped>\n",
       "    .dataframe tbody tr th:only-of-type {\n",
       "        vertical-align: middle;\n",
       "    }\n",
       "\n",
       "    .dataframe tbody tr th {\n",
       "        vertical-align: top;\n",
       "    }\n",
       "\n",
       "    .dataframe thead th {\n",
       "        text-align: right;\n",
       "    }\n",
       "</style>\n",
       "<table border=\"1\" class=\"dataframe\">\n",
       "  <thead>\n",
       "    <tr style=\"text-align: right;\">\n",
       "      <th></th>\n",
       "      <th>dist_code</th>\n",
       "      <th>district</th>\n",
       "    </tr>\n",
       "  </thead>\n",
       "  <tbody>\n",
       "    <tr>\n",
       "      <th>0</th>\n",
       "      <td>19_1</td>\n",
       "      <td>Adilabad</td>\n",
       "    </tr>\n",
       "    <tr>\n",
       "      <th>1</th>\n",
       "      <td>22_2</td>\n",
       "      <td>Bhadradri Kothagudem</td>\n",
       "    </tr>\n",
       "    <tr>\n",
       "      <th>2</th>\n",
       "      <td>21_1</td>\n",
       "      <td>Hanumakonda</td>\n",
       "    </tr>\n",
       "    <tr>\n",
       "      <th>3</th>\n",
       "      <td>16_1</td>\n",
       "      <td>Hyderabad</td>\n",
       "    </tr>\n",
       "    <tr>\n",
       "      <th>4</th>\n",
       "      <td>20_2</td>\n",
       "      <td>Jagtial</td>\n",
       "    </tr>\n",
       "  </tbody>\n",
       "</table>\n",
       "</div>"
      ],
      "text/plain": [
       "  dist_code              district\n",
       "0      19_1              Adilabad\n",
       "1      22_2  Bhadradri Kothagudem\n",
       "2      21_1           Hanumakonda\n",
       "3      16_1             Hyderabad\n",
       "4      20_2               Jagtial"
      ]
     },
     "execution_count": 75,
     "metadata": {},
     "output_type": "execute_result"
    }
   ],
   "source": [
    "df2.head()"
   ]
  },
  {
   "cell_type": "code",
   "execution_count": 76,
   "id": "0281dd40-6642-4162-9bab-41bea5efaf0c",
   "metadata": {},
   "outputs": [
    {
     "name": "stdout",
     "output_type": "stream",
     "text": [
      "<class 'pandas.core.frame.DataFrame'>\n",
      "RangeIndex: 33 entries, 0 to 32\n",
      "Data columns (total 2 columns):\n",
      " #   Column     Non-Null Count  Dtype \n",
      "---  ------     --------------  ----- \n",
      " 0   dist_code  33 non-null     object\n",
      " 1   district   33 non-null     object\n",
      "dtypes: object(2)\n",
      "memory usage: 656.0+ bytes\n"
     ]
    }
   ],
   "source": [
    "df2.info()"
   ]
  },
  {
   "cell_type": "markdown",
   "id": "85cd2313-f03b-4297-8a89-dea6af177973",
   "metadata": {},
   "source": [
    "# The table contains information about districts.\n",
    "\n",
    "- dist_code: This column represents the district code or identifier for each district.\n",
    "\n",
    "- district: This column represents the name of the district."
   ]
  },
  {
   "cell_type": "code",
   "execution_count": 77,
   "id": "bb1e3fd3-08d5-43d6-ad11-e91dd0cb9ccd",
   "metadata": {},
   "outputs": [
    {
     "data": {
      "text/plain": [
       "dist_code    0\n",
       "district     0\n",
       "dtype: int64"
      ]
     },
     "execution_count": 77,
     "metadata": {},
     "output_type": "execute_result"
    }
   ],
   "source": [
    "df2.isnull().sum()"
   ]
  },
  {
   "cell_type": "code",
   "execution_count": 78,
   "id": "f726b345-df71-40a5-ba27-cf4ebc6ee190",
   "metadata": {},
   "outputs": [
    {
     "data": {
      "text/plain": [
       "0"
      ]
     },
     "execution_count": 78,
     "metadata": {},
     "output_type": "execute_result"
    }
   ],
   "source": [
    "df2.duplicated().sum()"
   ]
  },
  {
   "cell_type": "markdown",
   "id": "ba7880a0-b299-48a9-ab6e-150e851e303f",
   "metadata": {},
   "source": [
    "# Understanding the Data of Dim stamps table"
   ]
  },
  {
   "cell_type": "code",
   "execution_count": 79,
   "id": "771d7aaa-e44d-4a46-a33d-b5c135c261a3",
   "metadata": {},
   "outputs": [
    {
     "data": {
      "text/html": [
       "<div>\n",
       "<style scoped>\n",
       "    .dataframe tbody tr th:only-of-type {\n",
       "        vertical-align: middle;\n",
       "    }\n",
       "\n",
       "    .dataframe tbody tr th {\n",
       "        vertical-align: top;\n",
       "    }\n",
       "\n",
       "    .dataframe thead th {\n",
       "        text-align: right;\n",
       "    }\n",
       "</style>\n",
       "<table border=\"1\" class=\"dataframe\">\n",
       "  <thead>\n",
       "    <tr style=\"text-align: right;\">\n",
       "      <th></th>\n",
       "      <th>dist_code</th>\n",
       "      <th>month</th>\n",
       "      <th>documents_registered_cnt</th>\n",
       "      <th>documents_registered_rev</th>\n",
       "      <th>estamps_challans_cnt</th>\n",
       "      <th>estamps_challans_rev</th>\n",
       "    </tr>\n",
       "  </thead>\n",
       "  <tbody>\n",
       "    <tr>\n",
       "      <th>0</th>\n",
       "      <td>14_1</td>\n",
       "      <td>2019-04-01</td>\n",
       "      <td>4533</td>\n",
       "      <td>59236363</td>\n",
       "      <td>0</td>\n",
       "      <td>0</td>\n",
       "    </tr>\n",
       "    <tr>\n",
       "      <th>1</th>\n",
       "      <td>17_3</td>\n",
       "      <td>2019-04-01</td>\n",
       "      <td>4151</td>\n",
       "      <td>41508762</td>\n",
       "      <td>0</td>\n",
       "      <td>0</td>\n",
       "    </tr>\n",
       "    <tr>\n",
       "      <th>2</th>\n",
       "      <td>20_3</td>\n",
       "      <td>2019-04-01</td>\n",
       "      <td>2116</td>\n",
       "      <td>23674170</td>\n",
       "      <td>0</td>\n",
       "      <td>0</td>\n",
       "    </tr>\n",
       "    <tr>\n",
       "      <th>3</th>\n",
       "      <td>21_5</td>\n",
       "      <td>2019-04-01</td>\n",
       "      <td>1089</td>\n",
       "      <td>15915285</td>\n",
       "      <td>0</td>\n",
       "      <td>0</td>\n",
       "    </tr>\n",
       "    <tr>\n",
       "      <th>4</th>\n",
       "      <td>23_1</td>\n",
       "      <td>2019-04-01</td>\n",
       "      <td>6133</td>\n",
       "      <td>82593256</td>\n",
       "      <td>0</td>\n",
       "      <td>0</td>\n",
       "    </tr>\n",
       "  </tbody>\n",
       "</table>\n",
       "</div>"
      ],
      "text/plain": [
       "  dist_code       month  documents_registered_cnt  documents_registered_rev  \\\n",
       "0      14_1  2019-04-01                      4533                  59236363   \n",
       "1      17_3  2019-04-01                      4151                  41508762   \n",
       "2      20_3  2019-04-01                      2116                  23674170   \n",
       "3      21_5  2019-04-01                      1089                  15915285   \n",
       "4      23_1  2019-04-01                      6133                  82593256   \n",
       "\n",
       "   estamps_challans_cnt  estamps_challans_rev  \n",
       "0                     0                     0  \n",
       "1                     0                     0  \n",
       "2                     0                     0  \n",
       "3                     0                     0  \n",
       "4                     0                     0  "
      ]
     },
     "execution_count": 79,
     "metadata": {},
     "output_type": "execute_result"
    }
   ],
   "source": [
    "df3.head()"
   ]
  },
  {
   "cell_type": "code",
   "execution_count": 80,
   "id": "11091155-4f29-464e-ad4f-1f8194fa967d",
   "metadata": {},
   "outputs": [
    {
     "name": "stdout",
     "output_type": "stream",
     "text": [
      "<class 'pandas.core.frame.DataFrame'>\n",
      "RangeIndex: 1504 entries, 0 to 1503\n",
      "Data columns (total 6 columns):\n",
      " #   Column                    Non-Null Count  Dtype \n",
      "---  ------                    --------------  ----- \n",
      " 0   dist_code                 1504 non-null   object\n",
      " 1   month                     1504 non-null   object\n",
      " 2   documents_registered_cnt  1504 non-null   int64 \n",
      " 3   documents_registered_rev  1504 non-null   int64 \n",
      " 4   estamps_challans_cnt      1504 non-null   int64 \n",
      " 5   estamps_challans_rev      1504 non-null   int64 \n",
      "dtypes: int64(4), object(2)\n",
      "memory usage: 70.6+ KB\n"
     ]
    }
   ],
   "source": [
    "df3.info()"
   ]
  },
  {
   "cell_type": "markdown",
   "id": "f890c8c8-3531-4ed4-8571-bc77d821dddc",
   "metadata": {},
   "source": [
    "# The table provides data on the revenue generated from document registrations and estamp challan payments aggregated at the district and monthly level.\n",
    "\n",
    "\n",
    "- dist_code: This column represents the district code.\n",
    "\n",
    "- month: This column represents the starting date of each month.\n",
    "\n",
    "- documents_registered_cnt: This column represents the total count of documents registered.\n",
    "\n",
    "- documents_registered_rev: This column represents the total revenue generated from the registered documents.\n",
    "\n",
    "- estamps_challans_cnt: This column represents the count of e-stamps challans.\n",
    "\n",
    "- estamps_challans_rev: This column represents the revenue generated from e-stamps challans."
   ]
  },
  {
   "cell_type": "code",
   "execution_count": 71,
   "id": "67cce378-2e26-49b5-be5c-ef7da1cde750",
   "metadata": {},
   "outputs": [
    {
     "name": "stdout",
     "output_type": "stream",
     "text": [
      "<class 'pandas.core.frame.DataFrame'>\n",
      "RangeIndex: 1504 entries, 0 to 1503\n",
      "Data columns (total 6 columns):\n",
      " #   Column                    Non-Null Count  Dtype \n",
      "---  ------                    --------------  ----- \n",
      " 0   dist_code                 1504 non-null   object\n",
      " 1   month                     1504 non-null   object\n",
      " 2   documents_registered_cnt  1504 non-null   int64 \n",
      " 3   documents_registered_rev  1504 non-null   int64 \n",
      " 4   estamps_challans_cnt      1504 non-null   int64 \n",
      " 5   estamps_challans_rev      1504 non-null   int64 \n",
      "dtypes: int64(4), object(2)\n",
      "memory usage: 70.6+ KB\n"
     ]
    }
   ],
   "source": [
    "df3.info()"
   ]
  },
  {
   "cell_type": "code",
   "execution_count": 72,
   "id": "5ebdaa87-c953-49d5-9d8a-63cd568e0acf",
   "metadata": {},
   "outputs": [
    {
     "data": {
      "text/plain": [
       "dist_code                   0\n",
       "month                       0\n",
       "documents_registered_cnt    0\n",
       "documents_registered_rev    0\n",
       "estamps_challans_cnt        0\n",
       "estamps_challans_rev        0\n",
       "dtype: int64"
      ]
     },
     "execution_count": 72,
     "metadata": {},
     "output_type": "execute_result"
    }
   ],
   "source": [
    "df3.isnull().sum()"
   ]
  },
  {
   "cell_type": "code",
   "execution_count": 73,
   "id": "10b25538-5ee9-4082-addb-a8d10d6ae683",
   "metadata": {},
   "outputs": [
    {
     "data": {
      "text/plain": [
       "0"
      ]
     },
     "execution_count": 73,
     "metadata": {},
     "output_type": "execute_result"
    }
   ],
   "source": [
    "df3.duplicated().sum()"
   ]
  },
  {
   "cell_type": "markdown",
   "id": "34e44134-c3e1-4b86-9740-6d13076a30f7",
   "metadata": {},
   "source": [
    "# 4)Understanding the data of fact_TS_iPASS table"
   ]
  },
  {
   "cell_type": "code",
   "execution_count": 84,
   "id": "84d9f28e-953c-48bd-84d2-fa1b42e529ed",
   "metadata": {},
   "outputs": [
    {
     "data": {
      "text/html": [
       "<div>\n",
       "<style scoped>\n",
       "    .dataframe tbody tr th:only-of-type {\n",
       "        vertical-align: middle;\n",
       "    }\n",
       "\n",
       "    .dataframe tbody tr th {\n",
       "        vertical-align: top;\n",
       "    }\n",
       "\n",
       "    .dataframe thead th {\n",
       "        text-align: right;\n",
       "    }\n",
       "</style>\n",
       "<table border=\"1\" class=\"dataframe\">\n",
       "  <thead>\n",
       "    <tr style=\"text-align: right;\">\n",
       "      <th></th>\n",
       "      <th>dist_code</th>\n",
       "      <th>month</th>\n",
       "      <th>fuel_type_petrol</th>\n",
       "      <th>fuel_type_diesel</th>\n",
       "      <th>fuel_type_electric</th>\n",
       "      <th>fuel_type_others</th>\n",
       "      <th>vehicleClass_MotorCycle</th>\n",
       "      <th>vehicleClass_MotorCar</th>\n",
       "      <th>vehicleClass_AutoRickshaw</th>\n",
       "      <th>vehicleClass_Agriculture</th>\n",
       "      <th>vehicleClass_others</th>\n",
       "      <th>seatCapacity_1_to_3</th>\n",
       "      <th>seatCapacity_4_to_6</th>\n",
       "      <th>seatCapacity_above_6</th>\n",
       "      <th>Brand_new_vehicles</th>\n",
       "      <th>Pre-owned_vehicles</th>\n",
       "      <th>category_Non-Transport</th>\n",
       "      <th>category_Transport</th>\n",
       "    </tr>\n",
       "  </thead>\n",
       "  <tbody>\n",
       "    <tr>\n",
       "      <th>0</th>\n",
       "      <td>15_1</td>\n",
       "      <td>2019-04-01</td>\n",
       "      <td>17910</td>\n",
       "      <td>3011</td>\n",
       "      <td>76</td>\n",
       "      <td>22</td>\n",
       "      <td>15308</td>\n",
       "      <td>4429</td>\n",
       "      <td>0</td>\n",
       "      <td>4</td>\n",
       "      <td>1278</td>\n",
       "      <td>16110</td>\n",
       "      <td>4182</td>\n",
       "      <td>717</td>\n",
       "      <td>19542</td>\n",
       "      <td>1477</td>\n",
       "      <td>19856</td>\n",
       "      <td>1163</td>\n",
       "    </tr>\n",
       "    <tr>\n",
       "      <th>1</th>\n",
       "      <td>18_2</td>\n",
       "      <td>2019-04-01</td>\n",
       "      <td>3066</td>\n",
       "      <td>306</td>\n",
       "      <td>6</td>\n",
       "      <td>0</td>\n",
       "      <td>2995</td>\n",
       "      <td>142</td>\n",
       "      <td>49</td>\n",
       "      <td>64</td>\n",
       "      <td>128</td>\n",
       "      <td>3156</td>\n",
       "      <td>189</td>\n",
       "      <td>33</td>\n",
       "      <td>3322</td>\n",
       "      <td>56</td>\n",
       "      <td>3203</td>\n",
       "      <td>175</td>\n",
       "    </tr>\n",
       "    <tr>\n",
       "      <th>2</th>\n",
       "      <td>20_3</td>\n",
       "      <td>2019-04-01</td>\n",
       "      <td>1577</td>\n",
       "      <td>215</td>\n",
       "      <td>0</td>\n",
       "      <td>0</td>\n",
       "      <td>1546</td>\n",
       "      <td>79</td>\n",
       "      <td>29</td>\n",
       "      <td>21</td>\n",
       "      <td>117</td>\n",
       "      <td>1683</td>\n",
       "      <td>104</td>\n",
       "      <td>5</td>\n",
       "      <td>1751</td>\n",
       "      <td>41</td>\n",
       "      <td>1648</td>\n",
       "      <td>144</td>\n",
       "    </tr>\n",
       "    <tr>\n",
       "      <th>3</th>\n",
       "      <td>21_3</td>\n",
       "      <td>2019-04-01</td>\n",
       "      <td>1961</td>\n",
       "      <td>281</td>\n",
       "      <td>2</td>\n",
       "      <td>0</td>\n",
       "      <td>1939</td>\n",
       "      <td>72</td>\n",
       "      <td>72</td>\n",
       "      <td>48</td>\n",
       "      <td>113</td>\n",
       "      <td>2082</td>\n",
       "      <td>146</td>\n",
       "      <td>16</td>\n",
       "      <td>2209</td>\n",
       "      <td>35</td>\n",
       "      <td>2075</td>\n",
       "      <td>169</td>\n",
       "    </tr>\n",
       "    <tr>\n",
       "      <th>4</th>\n",
       "      <td>21_7</td>\n",
       "      <td>2019-04-01</td>\n",
       "      <td>1552</td>\n",
       "      <td>309</td>\n",
       "      <td>0</td>\n",
       "      <td>0</td>\n",
       "      <td>1512</td>\n",
       "      <td>76</td>\n",
       "      <td>69</td>\n",
       "      <td>109</td>\n",
       "      <td>95</td>\n",
       "      <td>1696</td>\n",
       "      <td>145</td>\n",
       "      <td>20</td>\n",
       "      <td>1820</td>\n",
       "      <td>41</td>\n",
       "      <td>1701</td>\n",
       "      <td>160</td>\n",
       "    </tr>\n",
       "  </tbody>\n",
       "</table>\n",
       "</div>"
      ],
      "text/plain": [
       "  dist_code       month  fuel_type_petrol  fuel_type_diesel  \\\n",
       "0      15_1  2019-04-01             17910              3011   \n",
       "1      18_2  2019-04-01              3066               306   \n",
       "2      20_3  2019-04-01              1577               215   \n",
       "3      21_3  2019-04-01              1961               281   \n",
       "4      21_7  2019-04-01              1552               309   \n",
       "\n",
       "   fuel_type_electric  fuel_type_others  vehicleClass_MotorCycle  \\\n",
       "0                  76                22                    15308   \n",
       "1                   6                 0                     2995   \n",
       "2                   0                 0                     1546   \n",
       "3                   2                 0                     1939   \n",
       "4                   0                 0                     1512   \n",
       "\n",
       "   vehicleClass_MotorCar  vehicleClass_AutoRickshaw  vehicleClass_Agriculture  \\\n",
       "0                   4429                          0                         4   \n",
       "1                    142                         49                        64   \n",
       "2                     79                         29                        21   \n",
       "3                     72                         72                        48   \n",
       "4                     76                         69                       109   \n",
       "\n",
       "   vehicleClass_others  seatCapacity_1_to_3  seatCapacity_4_to_6  \\\n",
       "0                 1278                16110                 4182   \n",
       "1                  128                 3156                  189   \n",
       "2                  117                 1683                  104   \n",
       "3                  113                 2082                  146   \n",
       "4                   95                 1696                  145   \n",
       "\n",
       "   seatCapacity_above_6  Brand_new_vehicles  Pre-owned_vehicles  \\\n",
       "0                   717               19542                1477   \n",
       "1                    33                3322                  56   \n",
       "2                     5                1751                  41   \n",
       "3                    16                2209                  35   \n",
       "4                    20                1820                  41   \n",
       "\n",
       "   category_Non-Transport  category_Transport  \n",
       "0                   19856                1163  \n",
       "1                    3203                 175  \n",
       "2                    1648                 144  \n",
       "3                    2075                 169  \n",
       "4                    1701                 160  "
      ]
     },
     "execution_count": 84,
     "metadata": {},
     "output_type": "execute_result"
    }
   ],
   "source": [
    "df4.head()"
   ]
  },
  {
   "cell_type": "code",
   "execution_count": 81,
   "id": "09be9167-ab2f-4b3d-90fb-dd5fafb1edfe",
   "metadata": {},
   "outputs": [
    {
     "name": "stdout",
     "output_type": "stream",
     "text": [
      "<class 'pandas.core.frame.DataFrame'>\n",
      "RangeIndex: 1440 entries, 0 to 1439\n",
      "Data columns (total 18 columns):\n",
      " #   Column                     Non-Null Count  Dtype \n",
      "---  ------                     --------------  ----- \n",
      " 0   dist_code                  1440 non-null   object\n",
      " 1   month                      1440 non-null   object\n",
      " 2   fuel_type_petrol           1440 non-null   int64 \n",
      " 3   fuel_type_diesel           1440 non-null   int64 \n",
      " 4   fuel_type_electric         1440 non-null   int64 \n",
      " 5   fuel_type_others           1440 non-null   int64 \n",
      " 6   vehicleClass_MotorCycle    1440 non-null   int64 \n",
      " 7   vehicleClass_MotorCar      1440 non-null   int64 \n",
      " 8   vehicleClass_AutoRickshaw  1440 non-null   int64 \n",
      " 9   vehicleClass_Agriculture   1440 non-null   int64 \n",
      " 10  vehicleClass_others        1440 non-null   int64 \n",
      " 11  seatCapacity_1_to_3        1440 non-null   int64 \n",
      " 12  seatCapacity_4_to_6        1440 non-null   int64 \n",
      " 13  seatCapacity_above_6       1440 non-null   int64 \n",
      " 14  Brand_new_vehicles         1440 non-null   int64 \n",
      " 15  Pre-owned_vehicles         1440 non-null   int64 \n",
      " 16  category_Non-Transport     1440 non-null   int64 \n",
      " 17  category_Transport         1440 non-null   int64 \n",
      "dtypes: int64(16), object(2)\n",
      "memory usage: 202.6+ KB\n"
     ]
    }
   ],
   "source": [
    "df4.info()"
   ]
  },
  {
   "cell_type": "markdown",
   "id": "9f50c24a-4abf-46b8-a763-8e2fee4a58c5",
   "metadata": {},
   "source": [
    "# The table provides information about the individual vehicle sales data from the RTA(Regional Transport Authority) of the state of Telangana categorized by fuel type,\n",
    "vehicle class, seating capacity, and other general categories aggregated at the district and monthly level.\n",
    "\n",
    "- dist_code: This column represents the district code.\n",
    "\n",
    "- month: This column represents the starting date of each month.\n",
    "\n",
    "- Vehicle sales categorized by different fuel types:\n",
    "\tfuel_type_petrol: Number of vehicles sold with petrol fuel type.\n",
    "\tfuel_type_diesel: Number of vehicles sold with diesel fuel type.\n",
    "\tfuel_type_electric: Number of vehicles sold with electric fuel type.\n",
    "\tfuel_type_others: Number of vehicles sold with other fuel types.\n",
    "\n",
    "- Vehicle sales categorized by different vehicle class:\n",
    "\tvehicleClass_Motorcycles: This category includes all two-wheeled vehicles, such as motorcycles, scooters etc.\n",
    "\tvehicleClass_Motorcars: This category includes all four-wheeled vehicles, such as cars, vans etc.\n",
    "\tvehicleClass_Auto rickshaws: This category includes three-wheeled vehicles, such as auto rickshaws.\n",
    "\tvehicleClass_Agriculture: This category includes all vehicles used for agricultural purposes, such as tractors and harvesters.\n",
    "\tvehicleClass_Others: This category includes all vehicles belonging to other classes.\n",
    "\n",
    "- Vehicle sales categorized by seating capacity\n",
    "\tseatCapacity_1_to_3: Number of vehicles sold with a seating capacity ranging from 1 to 3.\n",
    "\tseatCapacity_4_to_6: Number of vehicles sold with a seating capacity ranging from 4 to 6.\n",
    "\tseatCapacity_above_6: Number of vehicles sold with a seating capacity above 6.\n",
    "\n",
    "- Sales of vehicles by other categories:\n",
    "\tBrand_new_vehicles: Number of brand new vehicles sold.\n",
    "\tPre-owned_vehicles: Number of pre-owned vehicles sold.\n",
    "\tcategory_Non-Transport: Number of vehicles in the non-transport category sold. The Non-Transport category typically includes vehicles that are not primarily used for public transportation of passengers or goods. Instead, these vehicles are generally intended for personal use, recreational activities, agriculture, construction, and other non-commercial purposes.\n",
    "\tcategory_Transport: Number of vehicles in the transport category sold. The Transport category comprises vehicles primarily designed and used for the transportation of goods, passengers, or both. These vehicles are generally associated with commercial and public transportation purposes."
   ]
  },
  {
   "cell_type": "code",
   "execution_count": 82,
   "id": "8691257b-009c-4747-a7af-0d075a5e9a24",
   "metadata": {},
   "outputs": [
    {
     "data": {
      "text/plain": [
       "dist_code                    0\n",
       "month                        0\n",
       "fuel_type_petrol             0\n",
       "fuel_type_diesel             0\n",
       "fuel_type_electric           0\n",
       "fuel_type_others             0\n",
       "vehicleClass_MotorCycle      0\n",
       "vehicleClass_MotorCar        0\n",
       "vehicleClass_AutoRickshaw    0\n",
       "vehicleClass_Agriculture     0\n",
       "vehicleClass_others          0\n",
       "seatCapacity_1_to_3          0\n",
       "seatCapacity_4_to_6          0\n",
       "seatCapacity_above_6         0\n",
       "Brand_new_vehicles           0\n",
       "Pre-owned_vehicles           0\n",
       "category_Non-Transport       0\n",
       "category_Transport           0\n",
       "dtype: int64"
      ]
     },
     "execution_count": 82,
     "metadata": {},
     "output_type": "execute_result"
    }
   ],
   "source": [
    "df4.isnull().sum()"
   ]
  },
  {
   "cell_type": "code",
   "execution_count": 83,
   "id": "4cbf3286-d4fe-4efd-9916-dfb1c9ac2cdc",
   "metadata": {},
   "outputs": [
    {
     "data": {
      "text/plain": [
       "0"
      ]
     },
     "execution_count": 83,
     "metadata": {},
     "output_type": "execute_result"
    }
   ],
   "source": [
    "df4.duplicated().sum()"
   ]
  },
  {
   "cell_type": "markdown",
   "id": "68204120-96d6-4991-a20b-ac5d5b9eb386",
   "metadata": {},
   "source": [
    "# Understanding the data of fact_TS_ipa Table"
   ]
  },
  {
   "cell_type": "code",
   "execution_count": 85,
   "id": "4161aee5-5feb-490f-b923-46d444923d1a",
   "metadata": {},
   "outputs": [
    {
     "data": {
      "text/html": [
       "<div>\n",
       "<style scoped>\n",
       "    .dataframe tbody tr th:only-of-type {\n",
       "        vertical-align: middle;\n",
       "    }\n",
       "\n",
       "    .dataframe tbody tr th {\n",
       "        vertical-align: top;\n",
       "    }\n",
       "\n",
       "    .dataframe thead th {\n",
       "        text-align: right;\n",
       "    }\n",
       "</style>\n",
       "<table border=\"1\" class=\"dataframe\">\n",
       "  <thead>\n",
       "    <tr style=\"text-align: right;\">\n",
       "      <th></th>\n",
       "      <th>dist_code</th>\n",
       "      <th>month</th>\n",
       "      <th>sector</th>\n",
       "      <th>investment in cr</th>\n",
       "      <th>number_of_employees</th>\n",
       "    </tr>\n",
       "  </thead>\n",
       "  <tbody>\n",
       "    <tr>\n",
       "      <th>0</th>\n",
       "      <td>14_1</td>\n",
       "      <td>01-04-2019</td>\n",
       "      <td>Engineering</td>\n",
       "      <td>2.3200</td>\n",
       "      <td>15</td>\n",
       "    </tr>\n",
       "    <tr>\n",
       "      <th>1</th>\n",
       "      <td>19_1</td>\n",
       "      <td>01-04-2019</td>\n",
       "      <td>Engineering</td>\n",
       "      <td>0.6250</td>\n",
       "      <td>13</td>\n",
       "    </tr>\n",
       "    <tr>\n",
       "      <th>2</th>\n",
       "      <td>20_3</td>\n",
       "      <td>01-04-2019</td>\n",
       "      <td>Wood and Leather</td>\n",
       "      <td>0.2000</td>\n",
       "      <td>8</td>\n",
       "    </tr>\n",
       "    <tr>\n",
       "      <th>3</th>\n",
       "      <td>20_3</td>\n",
       "      <td>01-04-2019</td>\n",
       "      <td>Textiles</td>\n",
       "      <td>0.2675</td>\n",
       "      <td>27</td>\n",
       "    </tr>\n",
       "    <tr>\n",
       "      <th>4</th>\n",
       "      <td>21_5</td>\n",
       "      <td>01-04-2019</td>\n",
       "      <td>Electrical and Electronic Products</td>\n",
       "      <td>0.1200</td>\n",
       "      <td>5</td>\n",
       "    </tr>\n",
       "  </tbody>\n",
       "</table>\n",
       "</div>"
      ],
      "text/plain": [
       "  dist_code       month                              sector  investment in cr  \\\n",
       "0      14_1  01-04-2019                         Engineering            2.3200   \n",
       "1      19_1  01-04-2019                         Engineering            0.6250   \n",
       "2      20_3  01-04-2019                    Wood and Leather            0.2000   \n",
       "3      20_3  01-04-2019                            Textiles            0.2675   \n",
       "4      21_5  01-04-2019  Electrical and Electronic Products            0.1200   \n",
       "\n",
       "   number_of_employees  \n",
       "0                   15  \n",
       "1                   13  \n",
       "2                    8  \n",
       "3                   27  \n",
       "4                    5  "
      ]
     },
     "execution_count": 85,
     "metadata": {},
     "output_type": "execute_result"
    }
   ],
   "source": [
    "df5.head()"
   ]
  },
  {
   "cell_type": "markdown",
   "id": "1f6ed3d3-9464-45ea-bef9-7e08b175af00",
   "metadata": {},
   "source": [
    "# The TS-iPASS dataset in Telangana comprises data concerning units or businesses established within the state under the \"Industrial Project Approval and Self-Certification System\" (iPASS). This government initiative aims to foster industrial growth and investment by streamlining project approvals and enabling self-certification for businesses.\n",
    "For further details, visit: https://ipass.telangana.gov.in/\n",
    "\n",
    "\n",
    "- dist_code: This column represents the district code.\n",
    "\n",
    "- month: This column represents the starting date of each month.\n",
    "\n",
    "- sector: This column represents the industry category. Examples of sectors include 'Automobiles', 'Beverages', 'Engineering', 'Food Processing', etc.\n",
    "\n",
    "- investment in cr: The column represents the investment made in the specific sector, measured in crores (a unit of currency), for the corresponding district and month.\n",
    "\n",
    "- number_of_employes: This column represents the number of employees associated with that sector for given district and respective month.\n",
    "\n"
   ]
  },
  {
   "cell_type": "code",
   "execution_count": 88,
   "id": "91e2a636-79c0-4f36-9727-6ae2902b16a5",
   "metadata": {},
   "outputs": [
    {
     "data": {
      "text/plain": [
       "dist_code              0\n",
       "month                  0\n",
       "sector                 0\n",
       "investment in cr       0\n",
       "number_of_employees    0\n",
       "dtype: int64"
      ]
     },
     "execution_count": 88,
     "metadata": {},
     "output_type": "execute_result"
    }
   ],
   "source": [
    "df5.isnull().sum()\n"
   ]
  },
  {
   "cell_type": "code",
   "execution_count": 90,
   "id": "80bc160f-c780-4e90-a53f-f8ad911a4896",
   "metadata": {},
   "outputs": [
    {
     "data": {
      "text/plain": [
       "0"
      ]
     },
     "execution_count": 90,
     "metadata": {},
     "output_type": "execute_result"
    }
   ],
   "source": [
    "df5.duplicated().sum()"
   ]
  }
 ],
 "metadata": {
  "kernelspec": {
   "display_name": "Python 3 (ipykernel)",
   "language": "python",
   "name": "python3"
  },
  "language_info": {
   "codemirror_mode": {
    "name": "ipython",
    "version": 3
   },
   "file_extension": ".py",
   "mimetype": "text/x-python",
   "name": "python",
   "nbconvert_exporter": "python",
   "pygments_lexer": "ipython3",
   "version": "3.11.1"
  }
 },
 "nbformat": 4,
 "nbformat_minor": 5
}
